{
 "cells": [
  {
   "cell_type": "code",
   "execution_count": 17,
   "id": "6ebadd39",
   "metadata": {},
   "outputs": [
    {
     "name": "stdout",
     "output_type": "stream",
     "text": [
      "o 'lower' transforma todo o texto em minúsculo\n"
     ]
    }
   ],
   "source": [
    "texto = \"O 'LOWER' TRANSFORMA TODO O TEXTO EM MINÚSCULO\"\n",
    "\n",
    "texto = texto.lower()\n",
    "print(texto)"
   ]
  },
  {
   "cell_type": "code",
   "execution_count": 18,
   "id": "245f21e8",
   "metadata": {},
   "outputs": [
    {
     "name": "stdout",
     "output_type": "stream",
     "text": [
      "O 'UPPER' TRANSFORMA TODO O TEXTO EM MAIÚSCULO\n"
     ]
    }
   ],
   "source": [
    "texto = \"o 'upper' transforma todo o texto em maiúsculo\"\n",
    "\n",
    "texto = texto.upper()\n",
    "print(texto)"
   ]
  },
  {
   "cell_type": "code",
   "execution_count": 19,
   "id": "d52e8611",
   "metadata": {},
   "outputs": [
    {
     "name": "stdout",
     "output_type": "stream",
     "text": [
      "O 'capitalize' transforma somente o primeiro carácter em maiúsculo\n"
     ]
    }
   ],
   "source": [
    "texto = \"o 'capitalize' transforma somente o primeiro carácter em maiúsculo\"\n",
    "\n",
    "texto = texto.capitalize()\n",
    "print(texto)"
   ]
  },
  {
   "cell_type": "code",
   "execution_count": 20,
   "id": "91993a3e",
   "metadata": {},
   "outputs": [
    {
     "name": "stdout",
     "output_type": "stream",
     "text": [
      "O 'Title' Transforma O Primeiro Carácter De Cada Palara Em Maiúsculo\n"
     ]
    }
   ],
   "source": [
    "texto = \"o 'title' transforma o primeiro carácter de cada palara em maiúsculo\"\n",
    "\n",
    "texto = texto.title()\n",
    "print(texto)"
   ]
  },
  {
   "cell_type": "code",
   "execution_count": 26,
   "id": "3ffb8dca",
   "metadata": {},
   "outputs": [
    {
     "name": "stdout",
     "output_type": "stream",
     "text": [
      "o 'strip' remove os espaços em branco antes e depois do texto\n"
     ]
    }
   ],
   "source": [
    "texto = \"                o 'strip' remove os espaços em branco antes e depois do texto               \"\n",
    "\n",
    "texto = texto.strip()\n",
    "print(texto)"
   ]
  },
  {
   "cell_type": "code",
   "execution_count": 24,
   "id": "e9343c03",
   "metadata": {},
   "outputs": [
    {
     "name": "stdout",
     "output_type": "stream",
     "text": [
      "o 'lstrip' remove os espaços em branco antes do texto               ''\n"
     ]
    }
   ],
   "source": [
    "texto = \"                o 'lstrip' remove os espaços em branco antes do texto               ''\"\n",
    "\n",
    "texto = texto.lstrip()\n",
    "print(texto)"
   ]
  },
  {
   "cell_type": "code",
   "execution_count": 28,
   "id": "7246109e",
   "metadata": {},
   "outputs": [
    {
     "name": "stdout",
     "output_type": "stream",
     "text": [
      "                o 'rstrip' remove os espaços em branco depois do texto\n"
     ]
    }
   ],
   "source": [
    "texto = \"                o 'rstrip' remove os espaços em branco depois do texto               \"\n",
    "\n",
    "texto = texto.rstrip()\n",
    "print(texto)"
   ]
  },
  {
   "cell_type": "code",
   "execution_count": 36,
   "id": "8a8bf283",
   "metadata": {},
   "outputs": [
    {
     "name": "stdout",
     "output_type": "stream",
     "text": [
      "--Python--\n"
     ]
    }
   ],
   "source": [
    "#O \"center\" delimita a string conforme argumento e preenche o restante também com argumento\n",
    "texto = \"Python\"\n",
    "\n",
    "texto = texto.center(10, \"-\")\n",
    "print(texto)"
   ]
  },
  {
   "cell_type": "code",
   "execution_count": 39,
   "id": "b5c3a290",
   "metadata": {},
   "outputs": [
    {
     "name": "stdout",
     "output_type": "stream",
     "text": [
      "P|y|t|h|o|n\n"
     ]
    }
   ],
   "source": [
    "#O \"join\" insere um carácter conforme argumento entre as strings\n",
    "texto = \"Python\"\n",
    "\n",
    "texto = \"|\".join(texto)\n",
    "print(texto)"
   ]
  },
  {
   "cell_type": "code",
   "execution_count": 58,
   "id": "a799c412",
   "metadata": {},
   "outputs": [
    {
     "name": "stdout",
     "output_type": "stream",
     "text": [
      "Nome: Henrique Idade: 35\n",
      "Nome: Henrique Idade: 35\n",
      "Nome: Henrique Idade: 35\n",
      "Nome: Henrique Idade: 35\n",
      "Nome: Henrique Idade: 35\n",
      "Nome: Henrique Idade: 35\n",
      "Nome: Henrique Idade: 35 Saldo: 45.44\n",
      "Nome: Henrique Idade: 35 Saldo:   45.4\n"
     ]
    }
   ],
   "source": [
    "nome = \"Henrique\"\n",
    "idade = 35\n",
    "profissao = \"Programador\"\n",
    "linguagem = \"Python\"\n",
    "saldo = 45.435\n",
    "\n",
    "dados = {\"nome\": \"Henrique\", \"idade\": \"35\"}\n",
    "\n",
    "print(\"Nome: %s Idade: %d\" % (nome, idade))\n",
    "print(\"Nome: {} Idade: {}\".format(nome, idade))\n",
    "print(\"Nome: {1} Idade: {0}\".format(idade, nome))\n",
    "print(\"Nome: {name} Idade: {age}\".format(name=nome, age=idade))\n",
    "print(\"Nome: {nome} Idade: {idade}\".format(**dados))\n",
    "print(f\"Nome: {nome} Idade: {idade}\")\n",
    "print(f\"Nome: {nome} Idade: {idade} Saldo: {saldo:.2f}\")\n",
    "print(f\"Nome: {nome} Idade: {idade} Saldo: {saldo:6.1f}\")"
   ]
  }
 ],
 "metadata": {
  "kernelspec": {
   "display_name": "Python 3",
   "language": "python",
   "name": "python3"
  },
  "language_info": {
   "codemirror_mode": {
    "name": "ipython",
    "version": 3
   },
   "file_extension": ".py",
   "mimetype": "text/x-python",
   "name": "python",
   "nbconvert_exporter": "python",
   "pygments_lexer": "ipython3",
   "version": "3.8.8"
  }
 },
 "nbformat": 4,
 "nbformat_minor": 5
}
